{
 "cells": [
  {
   "cell_type": "code",
   "execution_count": 1,
   "id": "91074714-1f15-4355-9a2e-3354b4cb29f0",
   "metadata": {},
   "outputs": [
    {
     "name": "stdout",
     "output_type": "stream",
     "text": [
      "Train samples: 307511, test samples: 48744\n",
      "Bureau df shape: (305811, 116)\n",
      "Process bureau and bureau_balance - done in 11s\n",
      "Previous applications df shape: (338857, 249)\n",
      "Process previous_applications - done in 11s\n",
      "Pos-cash balance df shape: (337252, 18)\n",
      "Process POS-CASH balance - done in 5s\n",
      "Installments payments df shape: (339587, 26)\n",
      "Process installments payments - done in 15s\n",
      "Credit card balance df shape: (103558, 141)\n",
      "Process credit card balance - done in 11s\n",
      "Starting LightGBM. Train shape: (307507, 798), test shape: (48744, 798)\n"
     ]
    },
    {
     "name": "stderr",
     "output_type": "stream",
     "text": [
      "/home/samyuen/.local/lib/python3.8/site-packages/lightgbm/sklearn.py:598: UserWarning: 'silent' argument is deprecated and will be removed in a future release of LightGBM. Pass 'verbose' parameter via keyword arguments instead.\n",
      "  _log_warning(\"'silent' argument is deprecated and will be removed in a future release of LightGBM. \"\n",
      "/home/samyuen/.local/lib/python3.8/site-packages/lightgbm/sklearn.py:726: UserWarning: 'early_stopping_rounds' argument is deprecated and will be removed in a future release of LightGBM. Pass 'early_stopping()' callback via 'callbacks' argument instead.\n",
      "  _log_warning(\"'early_stopping_rounds' argument is deprecated and will be removed in a future release of LightGBM. \"\n",
      "/home/samyuen/.local/lib/python3.8/site-packages/lightgbm/sklearn.py:736: UserWarning: 'verbose' argument is deprecated and will be removed in a future release of LightGBM. Pass 'log_evaluation()' callback via 'callbacks' argument instead.\n",
      "  _log_warning(\"'verbose' argument is deprecated and will be removed in a future release of LightGBM. \"\n"
     ]
    },
    {
     "name": "stdout",
     "output_type": "stream",
     "text": [
      "[LightGBM] [Warning] num_threads is set with nthread=15, will be overridden by n_jobs=-1. Current value: num_threads=-1\n",
      "[200]\ttraining's auc: 0.797104\ttraining's binary_logloss: 0.234829\tvalid_1's auc: 0.776089\tvalid_1's binary_logloss: 0.246759\n",
      "[400]\ttraining's auc: 0.819226\ttraining's binary_logloss: 0.22537\tvalid_1's auc: 0.787159\tvalid_1's binary_logloss: 0.242511\n",
      "[600]\ttraining's auc: 0.834155\ttraining's binary_logloss: 0.219277\tvalid_1's auc: 0.790742\tvalid_1's binary_logloss: 0.241208\n",
      "[800]\ttraining's auc: 0.846219\ttraining's binary_logloss: 0.214311\tvalid_1's auc: 0.792638\tvalid_1's binary_logloss: 0.240572\n",
      "[1000]\ttraining's auc: 0.856646\ttraining's binary_logloss: 0.20991\tvalid_1's auc: 0.793314\tvalid_1's binary_logloss: 0.240345\n",
      "[1200]\ttraining's auc: 0.866329\ttraining's binary_logloss: 0.205763\tvalid_1's auc: 0.794016\tvalid_1's binary_logloss: 0.240111\n",
      "[1400]\ttraining's auc: 0.875268\ttraining's binary_logloss: 0.2017\tvalid_1's auc: 0.794374\tvalid_1's binary_logloss: 0.240002\n",
      "[1600]\ttraining's auc: 0.883545\ttraining's binary_logloss: 0.197882\tvalid_1's auc: 0.794373\tvalid_1's binary_logloss: 0.239989\n",
      "Fold  1 AUC : 0.794514\n"
     ]
    },
    {
     "name": "stderr",
     "output_type": "stream",
     "text": [
      "/home/samyuen/.local/lib/python3.8/site-packages/lightgbm/sklearn.py:598: UserWarning: 'silent' argument is deprecated and will be removed in a future release of LightGBM. Pass 'verbose' parameter via keyword arguments instead.\n",
      "  _log_warning(\"'silent' argument is deprecated and will be removed in a future release of LightGBM. \"\n",
      "/home/samyuen/.local/lib/python3.8/site-packages/lightgbm/sklearn.py:726: UserWarning: 'early_stopping_rounds' argument is deprecated and will be removed in a future release of LightGBM. Pass 'early_stopping()' callback via 'callbacks' argument instead.\n",
      "  _log_warning(\"'early_stopping_rounds' argument is deprecated and will be removed in a future release of LightGBM. \"\n",
      "/home/samyuen/.local/lib/python3.8/site-packages/lightgbm/sklearn.py:736: UserWarning: 'verbose' argument is deprecated and will be removed in a future release of LightGBM. Pass 'log_evaluation()' callback via 'callbacks' argument instead.\n",
      "  _log_warning(\"'verbose' argument is deprecated and will be removed in a future release of LightGBM. \"\n"
     ]
    },
    {
     "name": "stdout",
     "output_type": "stream",
     "text": [
      "[LightGBM] [Warning] num_threads is set with nthread=15, will be overridden by n_jobs=-1. Current value: num_threads=-1\n",
      "[200]\ttraining's auc: 0.796504\ttraining's binary_logloss: 0.235573\tvalid_1's auc: 0.777058\tvalid_1's binary_logloss: 0.241702\n",
      "[400]\ttraining's auc: 0.819063\ttraining's binary_logloss: 0.226043\tvalid_1's auc: 0.786754\tvalid_1's binary_logloss: 0.237454\n",
      "[600]\ttraining's auc: 0.833962\ttraining's binary_logloss: 0.21997\tvalid_1's auc: 0.788941\tvalid_1's binary_logloss: 0.236447\n",
      "[800]\ttraining's auc: 0.846139\ttraining's binary_logloss: 0.214955\tvalid_1's auc: 0.790289\tvalid_1's binary_logloss: 0.235906\n",
      "[1000]\ttraining's auc: 0.856195\ttraining's binary_logloss: 0.210675\tvalid_1's auc: 0.790743\tvalid_1's binary_logloss: 0.235667\n",
      "[1200]\ttraining's auc: 0.865472\ttraining's binary_logloss: 0.206638\tvalid_1's auc: 0.79094\tvalid_1's binary_logloss: 0.23555\n",
      "[1400]\ttraining's auc: 0.874355\ttraining's binary_logloss: 0.202693\tvalid_1's auc: 0.791202\tvalid_1's binary_logloss: 0.235424\n",
      "[1600]\ttraining's auc: 0.882596\ttraining's binary_logloss: 0.198861\tvalid_1's auc: 0.791463\tvalid_1's binary_logloss: 0.23536\n",
      "Fold  2 AUC : 0.791501\n"
     ]
    },
    {
     "name": "stderr",
     "output_type": "stream",
     "text": [
      "/home/samyuen/.local/lib/python3.8/site-packages/lightgbm/sklearn.py:598: UserWarning: 'silent' argument is deprecated and will be removed in a future release of LightGBM. Pass 'verbose' parameter via keyword arguments instead.\n",
      "  _log_warning(\"'silent' argument is deprecated and will be removed in a future release of LightGBM. \"\n",
      "/home/samyuen/.local/lib/python3.8/site-packages/lightgbm/sklearn.py:726: UserWarning: 'early_stopping_rounds' argument is deprecated and will be removed in a future release of LightGBM. Pass 'early_stopping()' callback via 'callbacks' argument instead.\n",
      "  _log_warning(\"'early_stopping_rounds' argument is deprecated and will be removed in a future release of LightGBM. \"\n",
      "/home/samyuen/.local/lib/python3.8/site-packages/lightgbm/sklearn.py:736: UserWarning: 'verbose' argument is deprecated and will be removed in a future release of LightGBM. Pass 'log_evaluation()' callback via 'callbacks' argument instead.\n",
      "  _log_warning(\"'verbose' argument is deprecated and will be removed in a future release of LightGBM. \"\n"
     ]
    },
    {
     "name": "stdout",
     "output_type": "stream",
     "text": [
      "[LightGBM] [Warning] num_threads is set with nthread=15, will be overridden by n_jobs=-1. Current value: num_threads=-1\n",
      "[200]\ttraining's auc: 0.797097\ttraining's binary_logloss: 0.235026\tvalid_1's auc: 0.76787\tvalid_1's binary_logloss: 0.246536\n",
      "[400]\ttraining's auc: 0.819952\ttraining's binary_logloss: 0.225433\tvalid_1's auc: 0.778311\tvalid_1's binary_logloss: 0.242546\n",
      "[600]\ttraining's auc: 0.834998\ttraining's binary_logloss: 0.219239\tvalid_1's auc: 0.781675\tvalid_1's binary_logloss: 0.241422\n",
      "[800]\ttraining's auc: 0.8474\ttraining's binary_logloss: 0.214093\tvalid_1's auc: 0.783594\tvalid_1's binary_logloss: 0.240809\n",
      "[1000]\ttraining's auc: 0.857595\ttraining's binary_logloss: 0.209775\tvalid_1's auc: 0.784536\tvalid_1's binary_logloss: 0.240494\n",
      "[1200]\ttraining's auc: 0.866985\ttraining's binary_logloss: 0.205683\tvalid_1's auc: 0.785113\tvalid_1's binary_logloss: 0.240377\n",
      "[1400]\ttraining's auc: 0.875537\ttraining's binary_logloss: 0.201832\tvalid_1's auc: 0.785241\tvalid_1's binary_logloss: 0.240407\n",
      "Fold  3 AUC : 0.785324\n"
     ]
    },
    {
     "name": "stderr",
     "output_type": "stream",
     "text": [
      "/home/samyuen/.local/lib/python3.8/site-packages/lightgbm/sklearn.py:598: UserWarning: 'silent' argument is deprecated and will be removed in a future release of LightGBM. Pass 'verbose' parameter via keyword arguments instead.\n",
      "  _log_warning(\"'silent' argument is deprecated and will be removed in a future release of LightGBM. \"\n",
      "/home/samyuen/.local/lib/python3.8/site-packages/lightgbm/sklearn.py:726: UserWarning: 'early_stopping_rounds' argument is deprecated and will be removed in a future release of LightGBM. Pass 'early_stopping()' callback via 'callbacks' argument instead.\n",
      "  _log_warning(\"'early_stopping_rounds' argument is deprecated and will be removed in a future release of LightGBM. \"\n",
      "/home/samyuen/.local/lib/python3.8/site-packages/lightgbm/sklearn.py:736: UserWarning: 'verbose' argument is deprecated and will be removed in a future release of LightGBM. Pass 'log_evaluation()' callback via 'callbacks' argument instead.\n",
      "  _log_warning(\"'verbose' argument is deprecated and will be removed in a future release of LightGBM. \"\n"
     ]
    },
    {
     "name": "stdout",
     "output_type": "stream",
     "text": [
      "[LightGBM] [Warning] num_threads is set with nthread=15, will be overridden by n_jobs=-1. Current value: num_threads=-1\n",
      "[200]\ttraining's auc: 0.796781\ttraining's binary_logloss: 0.23554\tvalid_1's auc: 0.778094\tvalid_1's binary_logloss: 0.241263\n",
      "[400]\ttraining's auc: 0.81928\ttraining's binary_logloss: 0.225978\tvalid_1's auc: 0.788498\tvalid_1's binary_logloss: 0.236955\n",
      "[600]\ttraining's auc: 0.834386\ttraining's binary_logloss: 0.219837\tvalid_1's auc: 0.792236\tvalid_1's binary_logloss: 0.235482\n",
      "[800]\ttraining's auc: 0.846366\ttraining's binary_logloss: 0.214924\tvalid_1's auc: 0.793725\tvalid_1's binary_logloss: 0.23491\n",
      "[1000]\ttraining's auc: 0.857037\ttraining's binary_logloss: 0.210442\tvalid_1's auc: 0.794901\tvalid_1's binary_logloss: 0.234455\n",
      "[1200]\ttraining's auc: 0.8665\ttraining's binary_logloss: 0.206311\tvalid_1's auc: 0.795161\tvalid_1's binary_logloss: 0.234325\n",
      "[1400]\ttraining's auc: 0.875286\ttraining's binary_logloss: 0.202334\tvalid_1's auc: 0.795642\tvalid_1's binary_logloss: 0.234145\n",
      "[1600]\ttraining's auc: 0.883513\ttraining's binary_logloss: 0.198549\tvalid_1's auc: 0.795949\tvalid_1's binary_logloss: 0.234052\n",
      "[1800]\ttraining's auc: 0.891041\ttraining's binary_logloss: 0.194918\tvalid_1's auc: 0.795787\tvalid_1's binary_logloss: 0.234085\n",
      "Fold  4 AUC : 0.796002\n"
     ]
    },
    {
     "name": "stderr",
     "output_type": "stream",
     "text": [
      "/home/samyuen/.local/lib/python3.8/site-packages/lightgbm/sklearn.py:598: UserWarning: 'silent' argument is deprecated and will be removed in a future release of LightGBM. Pass 'verbose' parameter via keyword arguments instead.\n",
      "  _log_warning(\"'silent' argument is deprecated and will be removed in a future release of LightGBM. \"\n",
      "/home/samyuen/.local/lib/python3.8/site-packages/lightgbm/sklearn.py:726: UserWarning: 'early_stopping_rounds' argument is deprecated and will be removed in a future release of LightGBM. Pass 'early_stopping()' callback via 'callbacks' argument instead.\n",
      "  _log_warning(\"'early_stopping_rounds' argument is deprecated and will be removed in a future release of LightGBM. \"\n",
      "/home/samyuen/.local/lib/python3.8/site-packages/lightgbm/sklearn.py:736: UserWarning: 'verbose' argument is deprecated and will be removed in a future release of LightGBM. Pass 'log_evaluation()' callback via 'callbacks' argument instead.\n",
      "  _log_warning(\"'verbose' argument is deprecated and will be removed in a future release of LightGBM. \"\n"
     ]
    },
    {
     "name": "stdout",
     "output_type": "stream",
     "text": [
      "[LightGBM] [Warning] num_threads is set with nthread=15, will be overridden by n_jobs=-1. Current value: num_threads=-1\n",
      "[200]\ttraining's auc: 0.796443\ttraining's binary_logloss: 0.236317\tvalid_1's auc: 0.78032\tvalid_1's binary_logloss: 0.234124\n",
      "[400]\ttraining's auc: 0.819068\ttraining's binary_logloss: 0.226741\tvalid_1's auc: 0.790482\tvalid_1's binary_logloss: 0.229854\n",
      "[600]\ttraining's auc: 0.833992\ttraining's binary_logloss: 0.220619\tvalid_1's auc: 0.793639\tvalid_1's binary_logloss: 0.228569\n",
      "[800]\ttraining's auc: 0.846192\ttraining's binary_logloss: 0.215603\tvalid_1's auc: 0.795317\tvalid_1's binary_logloss: 0.227936\n",
      "[1000]\ttraining's auc: 0.856531\ttraining's binary_logloss: 0.211213\tvalid_1's auc: 0.796348\tvalid_1's binary_logloss: 0.22756\n",
      "[1200]\ttraining's auc: 0.866038\ttraining's binary_logloss: 0.207091\tvalid_1's auc: 0.797078\tvalid_1's binary_logloss: 0.227334\n",
      "[1400]\ttraining's auc: 0.874456\ttraining's binary_logloss: 0.203282\tvalid_1's auc: 0.797234\tvalid_1's binary_logloss: 0.227263\n",
      "[1600]\ttraining's auc: 0.8825\ttraining's binary_logloss: 0.199524\tvalid_1's auc: 0.79722\tvalid_1's binary_logloss: 0.227293\n",
      "Fold  5 AUC : 0.797344\n"
     ]
    },
    {
     "name": "stderr",
     "output_type": "stream",
     "text": [
      "/home/samyuen/.local/lib/python3.8/site-packages/lightgbm/sklearn.py:598: UserWarning: 'silent' argument is deprecated and will be removed in a future release of LightGBM. Pass 'verbose' parameter via keyword arguments instead.\n",
      "  _log_warning(\"'silent' argument is deprecated and will be removed in a future release of LightGBM. \"\n",
      "/home/samyuen/.local/lib/python3.8/site-packages/lightgbm/sklearn.py:726: UserWarning: 'early_stopping_rounds' argument is deprecated and will be removed in a future release of LightGBM. Pass 'early_stopping()' callback via 'callbacks' argument instead.\n",
      "  _log_warning(\"'early_stopping_rounds' argument is deprecated and will be removed in a future release of LightGBM. \"\n",
      "/home/samyuen/.local/lib/python3.8/site-packages/lightgbm/sklearn.py:736: UserWarning: 'verbose' argument is deprecated and will be removed in a future release of LightGBM. Pass 'log_evaluation()' callback via 'callbacks' argument instead.\n",
      "  _log_warning(\"'verbose' argument is deprecated and will be removed in a future release of LightGBM. \"\n"
     ]
    },
    {
     "name": "stdout",
     "output_type": "stream",
     "text": [
      "[LightGBM] [Warning] num_threads is set with nthread=15, will be overridden by n_jobs=-1. Current value: num_threads=-1\n",
      "[200]\ttraining's auc: 0.797404\ttraining's binary_logloss: 0.235337\tvalid_1's auc: 0.76717\tvalid_1's binary_logloss: 0.243343\n",
      "[400]\ttraining's auc: 0.820012\ttraining's binary_logloss: 0.225758\tvalid_1's auc: 0.778167\tvalid_1's binary_logloss: 0.239452\n",
      "[600]\ttraining's auc: 0.835049\ttraining's binary_logloss: 0.219617\tvalid_1's auc: 0.782224\tvalid_1's binary_logloss: 0.238116\n",
      "[800]\ttraining's auc: 0.847157\ttraining's binary_logloss: 0.214639\tvalid_1's auc: 0.783885\tvalid_1's binary_logloss: 0.237496\n",
      "[1000]\ttraining's auc: 0.857708\ttraining's binary_logloss: 0.210211\tvalid_1's auc: 0.784889\tvalid_1's binary_logloss: 0.237139\n",
      "[1200]\ttraining's auc: 0.867254\ttraining's binary_logloss: 0.205959\tvalid_1's auc: 0.785179\tvalid_1's binary_logloss: 0.236995\n",
      "[1400]\ttraining's auc: 0.876057\ttraining's binary_logloss: 0.201915\tvalid_1's auc: 0.785234\tvalid_1's binary_logloss: 0.236983\n",
      "Fold  6 AUC : 0.785344\n"
     ]
    },
    {
     "name": "stderr",
     "output_type": "stream",
     "text": [
      "/home/samyuen/.local/lib/python3.8/site-packages/lightgbm/sklearn.py:598: UserWarning: 'silent' argument is deprecated and will be removed in a future release of LightGBM. Pass 'verbose' parameter via keyword arguments instead.\n",
      "  _log_warning(\"'silent' argument is deprecated and will be removed in a future release of LightGBM. \"\n",
      "/home/samyuen/.local/lib/python3.8/site-packages/lightgbm/sklearn.py:726: UserWarning: 'early_stopping_rounds' argument is deprecated and will be removed in a future release of LightGBM. Pass 'early_stopping()' callback via 'callbacks' argument instead.\n",
      "  _log_warning(\"'early_stopping_rounds' argument is deprecated and will be removed in a future release of LightGBM. \"\n",
      "/home/samyuen/.local/lib/python3.8/site-packages/lightgbm/sklearn.py:736: UserWarning: 'verbose' argument is deprecated and will be removed in a future release of LightGBM. Pass 'log_evaluation()' callback via 'callbacks' argument instead.\n",
      "  _log_warning(\"'verbose' argument is deprecated and will be removed in a future release of LightGBM. \"\n"
     ]
    },
    {
     "name": "stdout",
     "output_type": "stream",
     "text": [
      "[LightGBM] [Warning] num_threads is set with nthread=15, will be overridden by n_jobs=-1. Current value: num_threads=-1\n",
      "[200]\ttraining's auc: 0.797268\ttraining's binary_logloss: 0.235527\tvalid_1's auc: 0.774539\tvalid_1's binary_logloss: 0.240657\n",
      "[400]\ttraining's auc: 0.819627\ttraining's binary_logloss: 0.225979\tvalid_1's auc: 0.784495\tvalid_1's binary_logloss: 0.236476\n",
      "[600]\ttraining's auc: 0.83472\ttraining's binary_logloss: 0.219851\tvalid_1's auc: 0.787703\tvalid_1's binary_logloss: 0.235247\n",
      "[800]\ttraining's auc: 0.847018\ttraining's binary_logloss: 0.21483\tvalid_1's auc: 0.78932\tvalid_1's binary_logloss: 0.234726\n",
      "[1000]\ttraining's auc: 0.85732\ttraining's binary_logloss: 0.210487\tvalid_1's auc: 0.78994\tvalid_1's binary_logloss: 0.234503\n",
      "[1200]\ttraining's auc: 0.866926\ttraining's binary_logloss: 0.206324\tvalid_1's auc: 0.790406\tvalid_1's binary_logloss: 0.234408\n",
      "[1400]\ttraining's auc: 0.875563\ttraining's binary_logloss: 0.20244\tvalid_1's auc: 0.790384\tvalid_1's binary_logloss: 0.234439\n",
      "Fold  7 AUC : 0.790524\n"
     ]
    },
    {
     "name": "stderr",
     "output_type": "stream",
     "text": [
      "/home/samyuen/.local/lib/python3.8/site-packages/lightgbm/sklearn.py:598: UserWarning: 'silent' argument is deprecated and will be removed in a future release of LightGBM. Pass 'verbose' parameter via keyword arguments instead.\n",
      "  _log_warning(\"'silent' argument is deprecated and will be removed in a future release of LightGBM. \"\n",
      "/home/samyuen/.local/lib/python3.8/site-packages/lightgbm/sklearn.py:726: UserWarning: 'early_stopping_rounds' argument is deprecated and will be removed in a future release of LightGBM. Pass 'early_stopping()' callback via 'callbacks' argument instead.\n",
      "  _log_warning(\"'early_stopping_rounds' argument is deprecated and will be removed in a future release of LightGBM. \"\n",
      "/home/samyuen/.local/lib/python3.8/site-packages/lightgbm/sklearn.py:736: UserWarning: 'verbose' argument is deprecated and will be removed in a future release of LightGBM. Pass 'log_evaluation()' callback via 'callbacks' argument instead.\n",
      "  _log_warning(\"'verbose' argument is deprecated and will be removed in a future release of LightGBM. \"\n"
     ]
    },
    {
     "name": "stdout",
     "output_type": "stream",
     "text": [
      "[LightGBM] [Warning] num_threads is set with nthread=15, will be overridden by n_jobs=-1. Current value: num_threads=-1\n",
      "[200]\ttraining's auc: 0.797384\ttraining's binary_logloss: 0.235077\tvalid_1's auc: 0.770478\tvalid_1's binary_logloss: 0.245343\n",
      "[400]\ttraining's auc: 0.819664\ttraining's binary_logloss: 0.225542\tvalid_1's auc: 0.781776\tvalid_1's binary_logloss: 0.240982\n",
      "[600]\ttraining's auc: 0.834599\ttraining's binary_logloss: 0.219451\tvalid_1's auc: 0.785968\tvalid_1's binary_logloss: 0.239525\n",
      "[800]\ttraining's auc: 0.846348\ttraining's binary_logloss: 0.214629\tvalid_1's auc: 0.787951\tvalid_1's binary_logloss: 0.238904\n",
      "[1000]\ttraining's auc: 0.856847\ttraining's binary_logloss: 0.210207\tvalid_1's auc: 0.788733\tvalid_1's binary_logloss: 0.238634\n",
      "[1200]\ttraining's auc: 0.866335\ttraining's binary_logloss: 0.206035\tvalid_1's auc: 0.789318\tvalid_1's binary_logloss: 0.238496\n",
      "[1400]\ttraining's auc: 0.875156\ttraining's binary_logloss: 0.202086\tvalid_1's auc: 0.789737\tvalid_1's binary_logloss: 0.238361\n",
      "[1600]\ttraining's auc: 0.883272\ttraining's binary_logloss: 0.19833\tvalid_1's auc: 0.78979\tvalid_1's binary_logloss: 0.238425\n",
      "Fold  8 AUC : 0.789870\n"
     ]
    },
    {
     "name": "stderr",
     "output_type": "stream",
     "text": [
      "/home/samyuen/.local/lib/python3.8/site-packages/lightgbm/sklearn.py:598: UserWarning: 'silent' argument is deprecated and will be removed in a future release of LightGBM. Pass 'verbose' parameter via keyword arguments instead.\n",
      "  _log_warning(\"'silent' argument is deprecated and will be removed in a future release of LightGBM. \"\n",
      "/home/samyuen/.local/lib/python3.8/site-packages/lightgbm/sklearn.py:726: UserWarning: 'early_stopping_rounds' argument is deprecated and will be removed in a future release of LightGBM. Pass 'early_stopping()' callback via 'callbacks' argument instead.\n",
      "  _log_warning(\"'early_stopping_rounds' argument is deprecated and will be removed in a future release of LightGBM. \"\n",
      "/home/samyuen/.local/lib/python3.8/site-packages/lightgbm/sklearn.py:736: UserWarning: 'verbose' argument is deprecated and will be removed in a future release of LightGBM. Pass 'log_evaluation()' callback via 'callbacks' argument instead.\n",
      "  _log_warning(\"'verbose' argument is deprecated and will be removed in a future release of LightGBM. \"\n"
     ]
    },
    {
     "name": "stdout",
     "output_type": "stream",
     "text": [
      "[LightGBM] [Warning] num_threads is set with nthread=15, will be overridden by n_jobs=-1. Current value: num_threads=-1\n",
      "[200]\ttraining's auc: 0.796262\ttraining's binary_logloss: 0.235491\tvalid_1's auc: 0.780614\tvalid_1's binary_logloss: 0.242519\n",
      "[400]\ttraining's auc: 0.819304\ttraining's binary_logloss: 0.225829\tvalid_1's auc: 0.7906\tvalid_1's binary_logloss: 0.238067\n",
      "[600]\ttraining's auc: 0.834369\ttraining's binary_logloss: 0.219696\tvalid_1's auc: 0.794411\tvalid_1's binary_logloss: 0.236568\n",
      "[800]\ttraining's auc: 0.846365\ttraining's binary_logloss: 0.214734\tvalid_1's auc: 0.795589\tvalid_1's binary_logloss: 0.235997\n",
      "[1000]\ttraining's auc: 0.857347\ttraining's binary_logloss: 0.21016\tvalid_1's auc: 0.795693\tvalid_1's binary_logloss: 0.235837\n",
      "[1200]\ttraining's auc: 0.866959\ttraining's binary_logloss: 0.20599\tvalid_1's auc: 0.796198\tvalid_1's binary_logloss: 0.235632\n",
      "[1400]\ttraining's auc: 0.876094\ttraining's binary_logloss: 0.201939\tvalid_1's auc: 0.796356\tvalid_1's binary_logloss: 0.235572\n",
      "[1600]\ttraining's auc: 0.884059\ttraining's binary_logloss: 0.198232\tvalid_1's auc: 0.796863\tvalid_1's binary_logloss: 0.235406\n",
      "[1800]\ttraining's auc: 0.891993\ttraining's binary_logloss: 0.194465\tvalid_1's auc: 0.797229\tvalid_1's binary_logloss: 0.235362\n",
      "[2000]\ttraining's auc: 0.899014\ttraining's binary_logloss: 0.190941\tvalid_1's auc: 0.797324\tvalid_1's binary_logloss: 0.235372\n",
      "Fold  9 AUC : 0.797389\n"
     ]
    },
    {
     "name": "stderr",
     "output_type": "stream",
     "text": [
      "/home/samyuen/.local/lib/python3.8/site-packages/lightgbm/sklearn.py:598: UserWarning: 'silent' argument is deprecated and will be removed in a future release of LightGBM. Pass 'verbose' parameter via keyword arguments instead.\n",
      "  _log_warning(\"'silent' argument is deprecated and will be removed in a future release of LightGBM. \"\n",
      "/home/samyuen/.local/lib/python3.8/site-packages/lightgbm/sklearn.py:726: UserWarning: 'early_stopping_rounds' argument is deprecated and will be removed in a future release of LightGBM. Pass 'early_stopping()' callback via 'callbacks' argument instead.\n",
      "  _log_warning(\"'early_stopping_rounds' argument is deprecated and will be removed in a future release of LightGBM. \"\n",
      "/home/samyuen/.local/lib/python3.8/site-packages/lightgbm/sklearn.py:736: UserWarning: 'verbose' argument is deprecated and will be removed in a future release of LightGBM. Pass 'log_evaluation()' callback via 'callbacks' argument instead.\n",
      "  _log_warning(\"'verbose' argument is deprecated and will be removed in a future release of LightGBM. \"\n"
     ]
    },
    {
     "name": "stdout",
     "output_type": "stream",
     "text": [
      "[LightGBM] [Warning] num_threads is set with nthread=15, will be overridden by n_jobs=-1. Current value: num_threads=-1\n",
      "[200]\ttraining's auc: 0.796896\ttraining's binary_logloss: 0.235586\tvalid_1's auc: 0.771623\tvalid_1's binary_logloss: 0.240838\n",
      "[400]\ttraining's auc: 0.819574\ttraining's binary_logloss: 0.226061\tvalid_1's auc: 0.782718\tvalid_1's binary_logloss: 0.236567\n",
      "[600]\ttraining's auc: 0.834468\ttraining's binary_logloss: 0.21995\tvalid_1's auc: 0.786322\tvalid_1's binary_logloss: 0.235229\n",
      "[800]\ttraining's auc: 0.846691\ttraining's binary_logloss: 0.214993\tvalid_1's auc: 0.788052\tvalid_1's binary_logloss: 0.234624\n",
      "[1000]\ttraining's auc: 0.857452\ttraining's binary_logloss: 0.210465\tvalid_1's auc: 0.789127\tvalid_1's binary_logloss: 0.234272\n",
      "[1200]\ttraining's auc: 0.867238\ttraining's binary_logloss: 0.206246\tvalid_1's auc: 0.789493\tvalid_1's binary_logloss: 0.23412\n",
      "[1400]\ttraining's auc: 0.876043\ttraining's binary_logloss: 0.202265\tvalid_1's auc: 0.789718\tvalid_1's binary_logloss: 0.23401\n",
      "[1600]\ttraining's auc: 0.883974\ttraining's binary_logloss: 0.198487\tvalid_1's auc: 0.789906\tvalid_1's binary_logloss: 0.233954\n",
      "Fold 10 AUC : 0.789871\n",
      "Full AUC score 0.791761\n",
      "Run LightGBM with kfold - done in 1710s\n",
      "Full model run - done in 1766s\n"
     ]
    },
    {
     "data": {
      "image/png": "[encoded data removed]",
      "text/plain": [
       "<Figure size 576x720 with 1 Axes>"
      ]
     },
     "metadata": {
      "needs_background": "light"
     },
     "output_type": "display_data"
    }
   ],
   "source": [
    "# HOME CREDIT DEFAULT RISK COMPETITION\n",
    "# Most features are created by applying min, max, mean, sum and var functions to grouped tables. \n",
    "# Little feature selection is done and overfitting might be a problem since many features are related.\n",
    "# The following key ideas were used:\n",
    "# - Divide or subtract important features to get rates (like annuity and income)\n",
    "# - In Bureau Data: create specific features for Active credits and Closed credits\n",
    "# - In Previous Applications: create specific features for Approved and Refused applications\n",
    "# - Modularity: one function for each table (except bureau_balance and application_test)\n",
    "# - One-hot encoding for categorical features\n",
    "# All tables are joined with the application DF using the SK_ID_CURR key (except bureau_balance).\n",
    "# You can use LightGBM with KFold or Stratified KFold.\n",
    "\n",
    "# Update 16/06/2018:\n",
    "# - Added Payment Rate feature\n",
    "# - Removed index from features\n",
    "# - Use standard KFold CV (not stratified)\n",
    "\n",
    "import numpy as np\n",
    "import pandas as pd\n",
    "import gc\n",
    "import time\n",
    "from contextlib import contextmanager\n",
    "from lightgbm import LGBMClassifier\n",
    "from sklearn.metrics import roc_auc_score, roc_curve\n",
    "from sklearn.model_selection import KFold, StratifiedKFold\n",
    "import matplotlib.pyplot as plt\n",
    "import seaborn as sns\n",
    "import warnings\n",
    "import re\n",
    "warnings.simplefilter(action='ignore', category=FutureWarning)\n",
    "\n",
    "@contextmanager\n",
    "def timer(title):\n",
    "    t0 = time.time()\n",
    "    yield\n",
    "    print(\"{} - done in {:.0f}s\".format(title, time.time() - t0))\n",
    "\n",
    "# One-hot encoding for categorical columns with get_dummies\n",
    "def one_hot_encoder(df, nan_as_category = True):\n",
    "    original_columns = list(df.columns)\n",
    "    categorical_columns = [col for col in df.columns if df[col].dtype == 'object']\n",
    "    df = pd.get_dummies(df, columns= categorical_columns, dummy_na= nan_as_category)\n",
    "    new_columns = [c for c in df.columns if c not in original_columns]\n",
    "    return df, new_columns\n",
    "\n",
    "# Preprocess application_train.csv and application_test.csv\n",
    "def application_train_test(num_rows = None, nan_as_category = False):\n",
    "    # Read data and merge\n",
    "    df = pd.read_csv('./input/application_train.csv', nrows= num_rows)\n",
    "    test_df = pd.read_csv('./input/application_test.csv', nrows= num_rows)\n",
    "    print(\"Train samples: {}, test samples: {}\".format(len(df), len(test_df)))\n",
    "    df = df.append(test_df).reset_index()\n",
    "    # Optional: Remove 4 applications with XNA CODE_GENDER (train set)\n",
    "    df = df[df['CODE_GENDER'] != 'XNA']\n",
    "    \n",
    "    # Categorical features with Binary encode (0 or 1; two categories)\n",
    "    for bin_feature in ['CODE_GENDER', 'FLAG_OWN_CAR', 'FLAG_OWN_REALTY']:\n",
    "        df[bin_feature], uniques = pd.factorize(df[bin_feature])\n",
    "    # Categorical features with One-Hot encode\n",
    "    df, cat_cols = one_hot_encoder(df, nan_as_category)\n",
    "    \n",
    "    # NaN values for DAYS_EMPLOYED: 365.243 -> nan\n",
    "    df['DAYS_EMPLOYED'].replace(365243, np.nan, inplace= True)\n",
    "    # Some simple new features (percentages)\n",
    "    df['DAYS_EMPLOYED_PERC'] = df['DAYS_EMPLOYED'] / df['DAYS_BIRTH']\n",
    "    df['INCOME_CREDIT_PERC'] = df['AMT_INCOME_TOTAL'] / df['AMT_CREDIT']\n",
    "    df['INCOME_PER_PERSON'] = df['AMT_INCOME_TOTAL'] / df['CNT_FAM_MEMBERS']\n",
    "    df['ANNUITY_INCOME_PERC'] = df['AMT_ANNUITY'] / df['AMT_INCOME_TOTAL']\n",
    "    df['PAYMENT_RATE'] = df['AMT_ANNUITY'] / df['AMT_CREDIT']\n",
    "    del test_df\n",
    "    gc.collect()\n",
    "    return df\n",
    "\n",
    "# Preprocess bureau.csv and bureau_balance.csv\n",
    "def bureau_and_balance(num_rows = None, nan_as_category = True):\n",
    "    bureau = pd.read_csv('./input/bureau.csv', nrows = num_rows)\n",
    "    bb = pd.read_csv('./input/bureau_balance.csv', nrows = num_rows)\n",
    "    bb, bb_cat = one_hot_encoder(bb, nan_as_category)\n",
    "    bureau, bureau_cat = one_hot_encoder(bureau, nan_as_category)\n",
    "    \n",
    "    # Bureau balance: Perform aggregations and merge with bureau.csv\n",
    "    bb_aggregations = {'MONTHS_BALANCE': ['min', 'max', 'size']}\n",
    "    for col in bb_cat:\n",
    "        bb_aggregations[col] = ['mean']\n",
    "    bb_agg = bb.groupby('SK_ID_BUREAU').agg(bb_aggregations)\n",
    "    bb_agg.columns = pd.Index([e[0] + \"_\" + e[1].upper() for e in bb_agg.columns.tolist()])\n",
    "    bureau = bureau.join(bb_agg, how='left', on='SK_ID_BUREAU')\n",
    "    bureau.drop(['SK_ID_BUREAU'], axis=1, inplace= True)\n",
    "    del bb, bb_agg\n",
    "    gc.collect()\n",
    "    \n",
    "    # Bureau and bureau_balance numeric features\n",
    "    num_aggregations = {\n",
    "        'DAYS_CREDIT': ['min', 'max', 'mean', 'var'],\n",
    "        'DAYS_CREDIT_ENDDATE': ['min', 'max', 'mean'],\n",
    "        'DAYS_CREDIT_UPDATE': ['mean'],\n",
    "        'CREDIT_DAY_OVERDUE': ['max', 'mean'],\n",
    "        'AMT_CREDIT_MAX_OVERDUE': ['mean'],\n",
    "        'AMT_CREDIT_SUM': ['max', 'mean', 'sum'],\n",
    "        'AMT_CREDIT_SUM_DEBT': ['max', 'mean', 'sum'],\n",
    "        'AMT_CREDIT_SUM_OVERDUE': ['mean'],\n",
    "        'AMT_CREDIT_SUM_LIMIT': ['mean', 'sum'],\n",
    "        'AMT_ANNUITY': ['max', 'mean'],\n",
    "        'CNT_CREDIT_PROLONG': ['sum'],\n",
    "        'MONTHS_BALANCE_MIN': ['min'],\n",
    "        'MONTHS_BALANCE_MAX': ['max'],\n",
    "        'MONTHS_BALANCE_SIZE': ['mean', 'sum']\n",
    "    }\n",
    "    # Bureau and bureau_balance categorical features\n",
    "    cat_aggregations = {}\n",
    "    for cat in bureau_cat: cat_aggregations[cat] = ['mean']\n",
    "    for cat in bb_cat: cat_aggregations[cat + \"_MEAN\"] = ['mean']\n",
    "    \n",
    "    bureau_agg = bureau.groupby('SK_ID_CURR').agg({**num_aggregations, **cat_aggregations})\n",
    "    bureau_agg.columns = pd.Index(['BURO_' + e[0] + \"_\" + e[1].upper() for e in bureau_agg.columns.tolist()])\n",
    "    # Bureau: Active credits - using only numerical aggregations\n",
    "    active = bureau[bureau['CREDIT_ACTIVE_Active'] == 1]\n",
    "    active_agg = active.groupby('SK_ID_CURR').agg(num_aggregations)\n",
    "    active_agg.columns = pd.Index(['ACTIVE_' + e[0] + \"_\" + e[1].upper() for e in active_agg.columns.tolist()])\n",
    "    bureau_agg = bureau_agg.join(active_agg, how='left', on='SK_ID_CURR')\n",
    "    del active, active_agg\n",
    "    gc.collect()\n",
    "    # Bureau: Closed credits - using only numerical aggregations\n",
    "    closed = bureau[bureau['CREDIT_ACTIVE_Closed'] == 1]\n",
    "    closed_agg = closed.groupby('SK_ID_CURR').agg(num_aggregations)\n",
    "    closed_agg.columns = pd.Index(['CLOSED_' + e[0] + \"_\" + e[1].upper() for e in closed_agg.columns.tolist()])\n",
    "    bureau_agg = bureau_agg.join(closed_agg, how='left', on='SK_ID_CURR')\n",
    "    del closed, closed_agg, bureau\n",
    "    gc.collect()\n",
    "    return bureau_agg\n",
    "\n",
    "# Preprocess previous_applications.csv\n",
    "def previous_applications(num_rows = None, nan_as_category = True):\n",
    "    prev = pd.read_csv('./input/previous_application.csv', nrows = num_rows)\n",
    "    prev, cat_cols = one_hot_encoder(prev, nan_as_category= True)\n",
    "    # Days 365.243 values -> nan\n",
    "    prev['DAYS_FIRST_DRAWING'].replace(365243, np.nan, inplace= True)\n",
    "    prev['DAYS_FIRST_DUE'].replace(365243, np.nan, inplace= True)\n",
    "    prev['DAYS_LAST_DUE_1ST_VERSION'].replace(365243, np.nan, inplace= True)\n",
    "    prev['DAYS_LAST_DUE'].replace(365243, np.nan, inplace= True)\n",
    "    prev['DAYS_TERMINATION'].replace(365243, np.nan, inplace= True)\n",
    "    # Add feature: value ask / value received percentage\n",
    "    prev['APP_CREDIT_PERC'] = prev['AMT_APPLICATION'] / prev['AMT_CREDIT']\n",
    "    # Previous applications numeric features\n",
    "    num_aggregations = {\n",
    "        'AMT_ANNUITY': ['min', 'max', 'mean'],\n",
    "        'AMT_APPLICATION': ['min', 'max', 'mean'],\n",
    "        'AMT_CREDIT': ['min', 'max', 'mean'],\n",
    "        'APP_CREDIT_PERC': ['min', 'max', 'mean', 'var'],\n",
    "        'AMT_DOWN_PAYMENT': ['min', 'max', 'mean'],\n",
    "        'AMT_GOODS_PRICE': ['min', 'max', 'mean'],\n",
    "        'HOUR_APPR_PROCESS_START': ['min', 'max', 'mean'],\n",
    "        'RATE_DOWN_PAYMENT': ['min', 'max', 'mean'],\n",
    "        'DAYS_DECISION': ['min', 'max', 'mean'],\n",
    "        'CNT_PAYMENT': ['mean', 'sum'],\n",
    "    }\n",
    "    # Previous applications categorical features\n",
    "    cat_aggregations = {}\n",
    "    for cat in cat_cols:\n",
    "        cat_aggregations[cat] = ['mean']\n",
    "    \n",
    "    prev_agg = prev.groupby('SK_ID_CURR').agg({**num_aggregations, **cat_aggregations})\n",
    "    prev_agg.columns = pd.Index(['PREV_' + e[0] + \"_\" + e[1].upper() for e in prev_agg.columns.tolist()])\n",
    "    # Previous Applications: Approved Applications - only numerical features\n",
    "    approved = prev[prev['NAME_CONTRACT_STATUS_Approved'] == 1]\n",
    "    approved_agg = approved.groupby('SK_ID_CURR').agg(num_aggregations)\n",
    "    approved_agg.columns = pd.Index(['APPROVED_' + e[0] + \"_\" + e[1].upper() for e in approved_agg.columns.tolist()])\n",
    "    prev_agg = prev_agg.join(approved_agg, how='left', on='SK_ID_CURR')\n",
    "    # Previous Applications: Refused Applications - only numerical features\n",
    "    refused = prev[prev['NAME_CONTRACT_STATUS_Refused'] == 1]\n",
    "    refused_agg = refused.groupby('SK_ID_CURR').agg(num_aggregations)\n",
    "    refused_agg.columns = pd.Index(['REFUSED_' + e[0] + \"_\" + e[1].upper() for e in refused_agg.columns.tolist()])\n",
    "    prev_agg = prev_agg.join(refused_agg, how='left', on='SK_ID_CURR')\n",
    "    del refused, refused_agg, approved, approved_agg, prev\n",
    "    gc.collect()\n",
    "    return prev_agg\n",
    "\n",
    "# Preprocess POS_CASH_balance.csv\n",
    "def pos_cash(num_rows = None, nan_as_category = True):\n",
    "    pos = pd.read_csv('./input/POS_CASH_balance.csv', nrows = num_rows)\n",
    "    pos, cat_cols = one_hot_encoder(pos, nan_as_category= True)\n",
    "    # Features\n",
    "    aggregations = {\n",
    "        'MONTHS_BALANCE': ['max', 'mean', 'size'],\n",
    "        'SK_DPD': ['max', 'mean'],\n",
    "        'SK_DPD_DEF': ['max', 'mean']\n",
    "    }\n",
    "    for cat in cat_cols:\n",
    "        aggregations[cat] = ['mean']\n",
    "    \n",
    "    pos_agg = pos.groupby('SK_ID_CURR').agg(aggregations)\n",
    "    pos_agg.columns = pd.Index(['POS_' + e[0] + \"_\" + e[1].upper() for e in pos_agg.columns.tolist()])\n",
    "    # Count pos cash accounts\n",
    "    pos_agg['POS_COUNT'] = pos.groupby('SK_ID_CURR').size()\n",
    "    del pos\n",
    "    gc.collect()\n",
    "    return pos_agg\n",
    "    \n",
    "# Preprocess installments_payments.csv\n",
    "def installments_payments(num_rows = None, nan_as_category = True):\n",
    "    ins = pd.read_csv('./input/installments_payments.csv', nrows = num_rows)\n",
    "    ins, cat_cols = one_hot_encoder(ins, nan_as_category= True)\n",
    "    # Percentage and difference paid in each installment (amount paid and installment value)\n",
    "    ins['PAYMENT_PERC'] = ins['AMT_PAYMENT'] / ins['AMT_INSTALMENT']\n",
    "    ins['PAYMENT_DIFF'] = ins['AMT_INSTALMENT'] - ins['AMT_PAYMENT']\n",
    "    # Days past due and days before due (no negative values)\n",
    "    ins['DPD'] = ins['DAYS_ENTRY_PAYMENT'] - ins['DAYS_INSTALMENT']\n",
    "    ins['DBD'] = ins['DAYS_INSTALMENT'] - ins['DAYS_ENTRY_PAYMENT']\n",
    "    ins['DPD'] = ins['DPD'].apply(lambda x: x if x > 0 else 0)\n",
    "    ins['DBD'] = ins['DBD'].apply(lambda x: x if x > 0 else 0)\n",
    "    # Features: Perform aggregations\n",
    "    aggregations = {\n",
    "        'NUM_INSTALMENT_VERSION': ['nunique'],\n",
    "        'DPD': ['max', 'mean', 'sum'],\n",
    "        'DBD': ['max', 'mean', 'sum'],\n",
    "        'PAYMENT_PERC': ['max', 'mean', 'sum', 'var'],\n",
    "        'PAYMENT_DIFF': ['max', 'mean', 'sum', 'var'],\n",
    "        'AMT_INSTALMENT': ['max', 'mean', 'sum'],\n",
    "        'AMT_PAYMENT': ['min', 'max', 'mean', 'sum'],\n",
    "        'DAYS_ENTRY_PAYMENT': ['max', 'mean', 'sum']\n",
    "    }\n",
    "    for cat in cat_cols:\n",
    "        aggregations[cat] = ['mean']\n",
    "    ins_agg = ins.groupby('SK_ID_CURR').agg(aggregations)\n",
    "    ins_agg.columns = pd.Index(['INSTAL_' + e[0] + \"_\" + e[1].upper() for e in ins_agg.columns.tolist()])\n",
    "    # Count installments accounts\n",
    "    ins_agg['INSTAL_COUNT'] = ins.groupby('SK_ID_CURR').size()\n",
    "    del ins\n",
    "    gc.collect()\n",
    "    return ins_agg\n",
    "\n",
    "# Preprocess credit_card_balance.csv\n",
    "def credit_card_balance(num_rows = None, nan_as_category = True):\n",
    "    cc = pd.read_csv('./input/credit_card_balance.csv', nrows = num_rows)\n",
    "    cc, cat_cols = one_hot_encoder(cc, nan_as_category= True)\n",
    "    # General aggregations\n",
    "    cc.drop(['SK_ID_PREV'], axis= 1, inplace = True)\n",
    "    cc_agg = cc.groupby('SK_ID_CURR').agg(['min', 'max', 'mean', 'sum', 'var'])\n",
    "    cc_agg.columns = pd.Index(['CC_' + e[0] + \"_\" + e[1].upper() for e in cc_agg.columns.tolist()])\n",
    "    # Count credit card lines\n",
    "    cc_agg['CC_COUNT'] = cc.groupby('SK_ID_CURR').size()\n",
    "    del cc\n",
    "    gc.collect()\n",
    "    return cc_agg\n",
    "\n",
    "# LightGBM GBDT with KFold or Stratified KFold\n",
    "# Parameters from Tilii kernel: https://www.kaggle.com/tilii7/olivier-lightgbm-parameters-by-bayesian-opt/code\n",
    "def kfold_lightgbm(df, num_folds, stratified = False, debug= False):\n",
    "    # Divide in training/validation and test data\n",
    "    df = df.rename(columns = lambda x:re.sub('[^A-Za-z0-9_]+', '', x))\n",
    "    train_df = df[df['TARGET'].notnull()]\n",
    "    test_df = df[df['TARGET'].isnull()]\n",
    "    train_df.to_csv('train.csv', index=False)\n",
    "    test_df.to_csv('test.csv', index=False)\n",
    "    print(\"Starting LightGBM. Train shape: {}, test shape: {}\".format(train_df.shape, test_df.shape))\n",
    "    del df\n",
    "    gc.collect()\n",
    "    # Cross validation model\n",
    "    if stratified:\n",
    "        folds = StratifiedKFold(n_splits= num_folds, shuffle=True, random_state=1001)\n",
    "    else:\n",
    "        folds = KFold(n_splits= num_folds, shuffle=True, random_state=1001)\n",
    "    # Create arrays and dataframes to store results\n",
    "    oof_preds = np.zeros(train_df.shape[0])\n",
    "    sub_preds = np.zeros(test_df.shape[0])\n",
    "    feature_importance_df = pd.DataFrame()\n",
    "    feats = [f for f in train_df.columns if f not in ['TARGET','SK_ID_CURR','SK_ID_BUREAU','SK_ID_PREV','index']]\n",
    "    \n",
    "    for n_fold, (train_idx, valid_idx) in enumerate(folds.split(train_df[feats], train_df['TARGET'])):\n",
    "        train_x, train_y = train_df[feats].iloc[train_idx], train_df['TARGET'].iloc[train_idx]\n",
    "        valid_x, valid_y = train_df[feats].iloc[valid_idx], train_df['TARGET'].iloc[valid_idx]\n",
    "\n",
    "        # LightGBM parameters found by Bayesian optimization\n",
    "        clf = LGBMClassifier(\n",
    "            nthread=15,\n",
    "            n_estimators=10000,\n",
    "            learning_rate=0.02,\n",
    "            num_leaves=34,\n",
    "            colsample_bytree=0.9497036,\n",
    "            subsample=0.8715623,\n",
    "            max_depth=8,\n",
    "            reg_alpha=0.041545473,\n",
    "            reg_lambda=0.0735294,\n",
    "            min_split_gain=0.0222415,\n",
    "            min_child_weight=39.3259775,\n",
    "            silent=-1,\n",
    "            verbose=-1, )\n",
    "\n",
    "        clf.fit(train_x, train_y, eval_set=[(train_x, train_y), (valid_x, valid_y)], \n",
    "            eval_metric= 'auc', verbose= 200, early_stopping_rounds= 200)\n",
    "\n",
    "        oof_preds[valid_idx] = clf.predict_proba(valid_x, num_iteration=clf.best_iteration_)[:, 1]\n",
    "        sub_preds += clf.predict_proba(test_df[feats], num_iteration=clf.best_iteration_)[:, 1] / folds.n_splits\n",
    "\n",
    "        fold_importance_df = pd.DataFrame()\n",
    "        fold_importance_df[\"feature\"] = feats\n",
    "        fold_importance_df[\"importance\"] = clf.feature_importances_\n",
    "        fold_importance_df[\"fold\"] = n_fold + 1\n",
    "        feature_importance_df = pd.concat([feature_importance_df, fold_importance_df], axis=0)\n",
    "        print('Fold %2d AUC : %.6f' % (n_fold + 1, roc_auc_score(valid_y, oof_preds[valid_idx])))\n",
    "        del clf, train_x, train_y, valid_x, valid_y\n",
    "        gc.collect()\n",
    "    \n",
    "    train_df[['TARGET']].to_csv('TARGET.csv', index=False)\n",
    "    np.save('validation_pred.npy', oof_preds)\n",
    "\n",
    "    print('Full AUC score %.6f' % roc_auc_score(train_df['TARGET'], oof_preds))\n",
    "    # Write submission file and plot feature importance\n",
    "    if not debug:\n",
    "        test_df['TARGET'] = sub_preds\n",
    "        test_df[['SK_ID_CURR', 'TARGET']].to_csv(submission_file_name, index= False)\n",
    "    display_importances(feature_importance_df)\n",
    "    feature_importance_df.to_csv('LGBM_importance.csv', index=False)\n",
    "    return feature_importance_df\n",
    "\n",
    "# Display/plot feature importance\n",
    "def display_importances(feature_importance_df_):\n",
    "    cols = feature_importance_df_[[\"feature\", \"importance\"]].groupby(\"feature\").mean().sort_values(by=\"importance\", ascending=False)[:50].index\n",
    "    best_features = feature_importance_df_.loc[feature_importance_df_.feature.isin(cols)]\n",
    "    plt.figure(figsize=(8, 10))\n",
    "    sns.barplot(x=\"importance\", y=\"feature\", data=best_features.sort_values(by=\"importance\", ascending=False))\n",
    "    plt.title('LightGBM Features (avg over folds)')\n",
    "    plt.tight_layout()\n",
    "    plt.savefig('lgbm_importances01.png')\n",
    "\n",
    "\n",
    "def main(debug = False):\n",
    "    num_rows = 10000 if debug else None\n",
    "    df = application_train_test(num_rows)\n",
    "    with timer(\"Process bureau and bureau_balance\"):\n",
    "        bureau = bureau_and_balance(num_rows)\n",
    "        print(\"Bureau df shape:\", bureau.shape)\n",
    "        df = df.join(bureau, how='left', on='SK_ID_CURR')\n",
    "        del bureau\n",
    "        gc.collect()\n",
    "    with timer(\"Process previous_applications\"):\n",
    "        prev = previous_applications(num_rows)\n",
    "        print(\"Previous applications df shape:\", prev.shape)\n",
    "        df = df.join(prev, how='left', on='SK_ID_CURR')\n",
    "        del prev\n",
    "        gc.collect()\n",
    "    with timer(\"Process POS-CASH balance\"):\n",
    "        pos = pos_cash(num_rows)\n",
    "        print(\"Pos-cash balance df shape:\", pos.shape)\n",
    "        df = df.join(pos, how='left', on='SK_ID_CURR')\n",
    "        del pos\n",
    "        gc.collect()\n",
    "    with timer(\"Process installments payments\"):\n",
    "        ins = installments_payments(num_rows)\n",
    "        print(\"Installments payments df shape:\", ins.shape)\n",
    "        df = df.join(ins, how='left', on='SK_ID_CURR')\n",
    "        del ins\n",
    "        gc.collect()\n",
    "    with timer(\"Process credit card balance\"):\n",
    "        cc = credit_card_balance(num_rows)\n",
    "        print(\"Credit card balance df shape:\", cc.shape)\n",
    "        df = df.join(cc, how='left', on='SK_ID_CURR')\n",
    "        del cc\n",
    "        gc.collect()\n",
    "    with timer(\"Run LightGBM with kfold\"):\n",
    "        feat_importance = kfold_lightgbm(df, num_folds= 10, stratified= False, debug= debug)\n",
    "\n",
    "if __name__ == \"__main__\":\n",
    "    submission_file_name = \"submission_kernel02.csv\"\n",
    "    with timer(\"Full model run\"):\n",
    "        main()"
   ]
  },
  {
   "cell_type": "code",
   "execution_count": 7,
   "id": "032753aa-5a2b-4e75-9a85-20fe09800176",
   "metadata": {},
   "outputs": [],
   "source": [
    "import pandas as pd\n",
    "NN = pd.read_csv('NN_importance2.csv')[[\"feature\", \"importance\"]].groupby(\"feature\").mean().sort_values(by=\"importance\", ascending=False)[:50]\n",
    "lgb = pd.read_csv('LGBM_importance.csv')[[\"feature\", \"importance\"]].groupby(\"feature\").mean().sort_values(by=\"importance\", ascending=False)[:50]"
   ]
  },
  {
   "cell_type": "code",
   "execution_count": 8,
   "id": "d5c4755b-047b-4b5e-800a-3c3c647cf631",
   "metadata": {},
   "outputs": [
    {
     "data": {
      "text/html": [
       "<div>\n",
       "<style scoped>\n",
       "    .dataframe tbody tr th:only-of-type {\n",
       "        vertical-align: middle;\n",
       "    }\n",
       "\n",
       "    .dataframe tbody tr th {\n",
       "        vertical-align: top;\n",
       "    }\n",
       "\n",
       "    .dataframe thead th {\n",
       "        text-align: right;\n",
       "    }\n",
       "</style>\n",
       "<table border=\"1\" class=\"dataframe\">\n",
       "  <thead>\n",
       "    <tr style=\"text-align: right;\">\n",
       "      <th></th>\n",
       "      <th>importance_x</th>\n",
       "      <th>importance_y</th>\n",
       "    </tr>\n",
       "    <tr>\n",
       "      <th>feature</th>\n",
       "      <th></th>\n",
       "      <th></th>\n",
       "    </tr>\n",
       "  </thead>\n",
       "  <tbody>\n",
       "    <tr>\n",
       "      <th>EXT_SOURCE_3</th>\n",
       "      <td>0.033802</td>\n",
       "      <td>962.8</td>\n",
       "    </tr>\n",
       "    <tr>\n",
       "      <th>EXT_SOURCE_2</th>\n",
       "      <td>0.029313</td>\n",
       "      <td>896.7</td>\n",
       "    </tr>\n",
       "    <tr>\n",
       "      <th>EXT_SOURCE_1</th>\n",
       "      <td>0.005297</td>\n",
       "      <td>1002.9</td>\n",
       "    </tr>\n",
       "    <tr>\n",
       "      <th>APPROVED_CNT_PAYMENT_SUM</th>\n",
       "      <td>0.002040</td>\n",
       "      <td>200.7</td>\n",
       "    </tr>\n",
       "    <tr>\n",
       "      <th>DAYS_EMPLOYED_PERC</th>\n",
       "      <td>0.001827</td>\n",
       "      <td>364.5</td>\n",
       "    </tr>\n",
       "    <tr>\n",
       "      <th>PREV_CNT_PAYMENT_MEAN</th>\n",
       "      <td>0.001475</td>\n",
       "      <td>331.0</td>\n",
       "    </tr>\n",
       "    <tr>\n",
       "      <th>DAYS_BIRTH</th>\n",
       "      <td>0.001315</td>\n",
       "      <td>732.5</td>\n",
       "    </tr>\n",
       "    <tr>\n",
       "      <th>AMT_ANNUITY</th>\n",
       "      <td>0.001290</td>\n",
       "      <td>531.3</td>\n",
       "    </tr>\n",
       "    <tr>\n",
       "      <th>AMT_GOODS_PRICE</th>\n",
       "      <td>0.001063</td>\n",
       "      <td>318.6</td>\n",
       "    </tr>\n",
       "    <tr>\n",
       "      <th>APPROVED_CNT_PAYMENT_MEAN</th>\n",
       "      <td>0.000982</td>\n",
       "      <td>435.9</td>\n",
       "    </tr>\n",
       "    <tr>\n",
       "      <th>POS_MONTHS_BALANCE_SIZE</th>\n",
       "      <td>0.000831</td>\n",
       "      <td>252.8</td>\n",
       "    </tr>\n",
       "    <tr>\n",
       "      <th>DAYS_ID_PUBLISH</th>\n",
       "      <td>0.000830</td>\n",
       "      <td>435.0</td>\n",
       "    </tr>\n",
       "    <tr>\n",
       "      <th>ANNUITY_INCOME_PERC</th>\n",
       "      <td>0.000819</td>\n",
       "      <td>361.6</td>\n",
       "    </tr>\n",
       "    <tr>\n",
       "      <th>PAYMENT_RATE</th>\n",
       "      <td>0.000746</td>\n",
       "      <td>1114.7</td>\n",
       "    </tr>\n",
       "    <tr>\n",
       "      <th>DAYS_LAST_PHONE_CHANGE</th>\n",
       "      <td>0.000745</td>\n",
       "      <td>293.0</td>\n",
       "    </tr>\n",
       "    <tr>\n",
       "      <th>INSTAL_DAYS_ENTRY_PAYMENT_MAX</th>\n",
       "      <td>0.000672</td>\n",
       "      <td>398.0</td>\n",
       "    </tr>\n",
       "  </tbody>\n",
       "</table>\n",
       "</div>"
      ],
      "text/plain": [
       "                               importance_x  importance_y\n",
       "feature                                                  \n",
       "EXT_SOURCE_3                       0.033802         962.8\n",
       "EXT_SOURCE_2                       0.029313         896.7\n",
       "EXT_SOURCE_1                       0.005297        1002.9\n",
       "APPROVED_CNT_PAYMENT_SUM           0.002040         200.7\n",
       "DAYS_EMPLOYED_PERC                 0.001827         364.5\n",
       "PREV_CNT_PAYMENT_MEAN              0.001475         331.0\n",
       "DAYS_BIRTH                         0.001315         732.5\n",
       "AMT_ANNUITY                        0.001290         531.3\n",
       "AMT_GOODS_PRICE                    0.001063         318.6\n",
       "APPROVED_CNT_PAYMENT_MEAN          0.000982         435.9\n",
       "POS_MONTHS_BALANCE_SIZE            0.000831         252.8\n",
       "DAYS_ID_PUBLISH                    0.000830         435.0\n",
       "ANNUITY_INCOME_PERC                0.000819         361.6\n",
       "PAYMENT_RATE                       0.000746        1114.7\n",
       "DAYS_LAST_PHONE_CHANGE             0.000745         293.0\n",
       "INSTAL_DAYS_ENTRY_PAYMENT_MAX      0.000672         398.0"
      ]
     },
     "execution_count": 8,
     "metadata": {},
     "output_type": "execute_result"
    }
   ],
   "source": [
    "NN.merge(lgb, left_index=True, right_index=True, how='inner')"
   ]
  },
  {
   "cell_type": "code",
   "execution_count": 57,
   "id": "89b785b5-41b8-4b6d-9405-f9fde27b4658",
   "metadata": {},
   "outputs": [
    {
     "ename": "ImportError",
     "evalue": "cannot import name 'zero_one_score' from 'sklearn.metrics' (/home/samyuen/.local/lib/python3.8/site-packages/sklearn/metrics/__init__.py)",
     "output_type": "error",
     "traceback": [
      "\u001b[0;31m---------------------------------------------------------------------------\u001b[0m",
      "\u001b[0;31mImportError\u001b[0m                               Traceback (most recent call last)",
      "\u001b[0;32m<ipython-input-57-adb394b975a7>\u001b[0m in \u001b[0;36m<module>\u001b[0;34m\u001b[0m\n\u001b[1;32m      2\u001b[0m \u001b[0;32mfrom\u001b[0m \u001b[0msklearn\u001b[0m\u001b[0;34m.\u001b[0m\u001b[0mmetrics\u001b[0m \u001b[0;32mimport\u001b[0m \u001b[0mconfusion_matrix\u001b[0m\u001b[0;34m\u001b[0m\u001b[0;34m\u001b[0m\u001b[0m\n\u001b[1;32m      3\u001b[0m \u001b[0;32mfrom\u001b[0m \u001b[0mtqdm\u001b[0m \u001b[0;32mimport\u001b[0m \u001b[0mtqdm\u001b[0m\u001b[0;34m\u001b[0m\u001b[0;34m\u001b[0m\u001b[0m\n\u001b[0;32m----> 4\u001b[0;31m \u001b[0;32mfrom\u001b[0m \u001b[0msklearn\u001b[0m\u001b[0;34m.\u001b[0m\u001b[0mmetrics\u001b[0m \u001b[0;32mimport\u001b[0m \u001b[0mclassification_report\u001b[0m\u001b[0;34m,\u001b[0m \u001b[0mf1_score\u001b[0m\u001b[0;34m,\u001b[0m \u001b[0mrecall_score\u001b[0m\u001b[0;34m,\u001b[0m \u001b[0mprecision_score\u001b[0m\u001b[0;34m,\u001b[0m \u001b[0mconfusion_matrix\u001b[0m\u001b[0;34m,\u001b[0m \u001b[0mzero_one_score\u001b[0m\u001b[0;34m\u001b[0m\u001b[0;34m\u001b[0m\u001b[0m\n\u001b[0m\u001b[1;32m      5\u001b[0m \u001b[0;32mimport\u001b[0m \u001b[0mcopy\u001b[0m\u001b[0;34m\u001b[0m\u001b[0;34m\u001b[0m\u001b[0m\n\u001b[1;32m      6\u001b[0m \u001b[0;32mimport\u001b[0m \u001b[0mmatplotlib\u001b[0m\u001b[0;34m.\u001b[0m\u001b[0mpyplot\u001b[0m \u001b[0;32mas\u001b[0m \u001b[0mplt\u001b[0m\u001b[0;34m\u001b[0m\u001b[0;34m\u001b[0m\u001b[0m\n",
      "\u001b[0;31mImportError\u001b[0m: cannot import name 'zero_one_score' from 'sklearn.metrics' (/home/samyuen/.local/lib/python3.8/site-packages/sklearn/metrics/__init__.py)"
     ]
    }
   ],
   "source": [
    "import numpy as np\n",
    "from sklearn.metrics import confusion_matrix\n",
    "from tqdm import tqdm\n",
    "from sklearn.metrics import classification_report, f1_score, recall_score, precision_score, confusion_matrix, zero_one_score\n",
    "import copy\n",
    "import matplotlib.pyplot as plt\n",
    "import itertools"
   ]
  },
  {
   "cell_type": "code",
   "execution_count": 52,
   "id": "b3dd5f7f-8472-49a6-b593-fac303210d27",
   "metadata": {},
   "outputs": [],
   "source": [
    "def plot_confusion_matrix(cm, classes, normalize=False, title='Confusion matrix', cmap=plt.cm.Blues):\n",
    "    if normalize:\n",
    "        cm = cm.astype('float') / cm.sum(axis=1)[:, np.newaxis]\n",
    "        print(\"Normalized confusion matrix\")\n",
    "    else:\n",
    "        print('Confusion matrix, without normalization')\n",
    "\n",
    "    print(cm)\n",
    "    plt.imshow(cm, interpolation='nearest', cmap=cmap)\n",
    "    plt.title(title)\n",
    "    plt.colorbar()\n",
    "    tick_marks = np.arange(len(classes))\n",
    "    plt.xticks(tick_marks, classes, rotation=45)\n",
    "    plt.yticks(tick_marks, classes)\n",
    "\n",
    "    fmt = '.2f' if normalize else 'd'\n",
    "    thresh = cm.max() / 2.\n",
    "    for i, j in itertools.product(range(cm.shape[0]), range(cm.shape[1])):\n",
    "        plt.text(j, i, format(cm[i, j], fmt), horizontalalignment=\"center\", color=\"white\" if cm[i, j] > thresh else \"black\")\n",
    "\n",
    "    plt.tight_layout()\n",
    "    plt.ylabel('True label')\n",
    "    plt.xlabel('Predicted label')\n",
    "    plt.savefig('lgbm_confusion2.png')"
   ]
  },
  {
   "cell_type": "code",
   "execution_count": 32,
   "id": "b88a1fe1-3563-48e5-8076-c2a91a526373",
   "metadata": {},
   "outputs": [],
   "source": [
    "y_pred = np.load('validation_pred.npy')\n",
    "target = pd.read_csv('TARGET.csv').to_numpy().reshape(-1,1)"
   ]
  },
  {
   "cell_type": "code",
   "execution_count": 111,
   "id": "cf162f11-31b9-4b1e-ad8a-ff5b210270c7",
   "metadata": {},
   "outputs": [
    {
     "name": "stdout",
     "output_type": "stream",
     "text": [
      "              precision    recall  f1-score   support\n",
      "\n",
      "         0.0       0.97      0.71      0.82    282682\n",
      "         1.0       0.18      0.73      0.29     24825\n",
      "\n",
      "    accuracy                           0.71    307507\n",
      "   macro avg       0.57      0.72      0.56    307507\n",
      "weighted avg       0.90      0.71      0.78    307507\n",
      "\n"
     ]
    }
   ],
   "source": [
    "temp_pred = copy.deepcopy(y_pred)\n",
    "temp_pred[temp_pred >= 0.075] = 1\n",
    "temp_pred[temp_pred < 0.075] = 0\n",
    "print(classification_report(target, temp_pred, output_dict=False))"
   ]
  },
  {
   "cell_type": "code",
   "execution_count": 112,
   "id": "b862f663-6cf4-4c24-bddf-0066ba28e128",
   "metadata": {},
   "outputs": [
    {
     "name": "stdout",
     "output_type": "stream",
     "text": [
      "Confusion matrix, without normalization\n",
      "[[201173  81509]\n",
      " [  6709  18116]]\n"
     ]
    },
    {
     "data": {
      "image/png": "[encoded data removed]",
      "text/plain": [
       "<Figure size 432x288 with 2 Axes>"
      ]
     },
     "metadata": {
      "needs_background": "light"
     },
     "output_type": "display_data"
    }
   ],
   "source": [
    "cm = confusion_matrix(target, temp_pred)\n",
    "plot_confusion_matrix(cm, [0,1], False, 'LightGBM 10-fold Confusion Matrix')"
   ]
  },
  {
   "cell_type": "code",
   "execution_count": 60,
   "id": "c995a72f-68ca-4def-bb45-403de2988991",
   "metadata": {},
   "outputs": [
    {
     "data": {
      "text/plain": [
       "array([[281626,   1056],\n",
       "       [ 23464,   1361]])"
      ]
     },
     "execution_count": 60,
     "metadata": {},
     "output_type": "execute_result"
    }
   ],
   "source": [
    "cm"
   ]
  },
  {
   "cell_type": "code",
   "execution_count": 68,
   "id": "19f81187-9e08-4e57-aad5-60c9d933a844",
   "metadata": {},
   "outputs": [
    {
     "name": "stderr",
     "output_type": "stream",
     "text": [
      "100%|██████████| 200/200 [01:53<00:00,  1.77it/s]\n"
     ]
    }
   ],
   "source": [
    "thresholds = np.arange(0,1,1/200)\n",
    "highest_roc = 0\n",
    "best_threshold = None\n",
    "err_rate0 = []\n",
    "err_rate1 = []\n",
    "for threshold in tqdm(thresholds):\n",
    "    #print(threshold)\n",
    "    temp_pred = copy.deepcopy(y_pred)\n",
    "    temp_pred[temp_pred >= threshold] = 1\n",
    "    temp_pred[temp_pred < threshold] = 0\n",
    "    '''if roc > highest_roc:\n",
    "        highest_roc = roc\n",
    "        best_threshold = threshold'''\n",
    "    \n",
    "    result = classification_report(target, temp_pred, output_dict=True)\n",
    "    cm = confusion_matrix(target, temp_pred)\n",
    "    err_rate0.append(cm[0][1]/(np.sum(cm[0])))\n",
    "    err_rate1.append(cm[1][0]/(np.sum(cm[1])))\n",
    "    '''print('specificity of 0:', result['0.0']['recall'], 'sensitivity of 1:', result['1.0']['recall'])\n",
    "    print('precision of 0:', result['0.0']['precision'], 'precision of 1:', result['1.0']['precision'])\n",
    "    print('f1-score of 0:', result['0.0']['f1-score'], 'f1-score of 1:', result['1.0']['f1-score'])'''"
   ]
  },
  {
   "cell_type": "code",
   "execution_count": 118,
   "id": "2713a36a-118d-4dde-b8ee-59161b95b4f0",
   "metadata": {},
   "outputs": [
    {
     "data": {
      "image/png": "[encoded data removed]",
      "text/plain": [
       "<Figure size 432x288 with 1 Axes>"
      ]
     },
     "metadata": {
      "needs_background": "light"
     },
     "output_type": "display_data"
    }
   ],
   "source": [
    "err_rate0 = np.array(err_rate0)\n",
    "err_rate1 = np.array(err_rate1)\n",
    "plt.plot(thresholds, err_rate0, '-', label='Label 0')\n",
    "plt.plot(thresholds, err_rate1, '-', label='label 1')\n",
    "idx = np.argwhere(np.diff(np.sign(err_rate0 - err_rate1))).flatten()\n",
    "plt.plot(thresholds[idx], err_rate0[idx], 'ro')\n",
    "plt.vlines(thresholds[idx], 0, err_rate0[idx], linestyle=\"dashed\")\n",
    "plt.hlines(err_rate0[idx], 0, thresholds[idx], linestyle=\"dashed\")\n",
    "plt.ylabel('Error Rate')\n",
    "plt.xlabel('Threshold')\n",
    "plt.xlim(0,None)\n",
    "plt.ylim(0,None)\n",
    "#plt.text(thresholds[idx], err_rate0[idx], '({}, {})'.format(np.round(thresholds[idx],2), np.around(err_rate0[idx],2)))\n",
    "plt.annotate('(%.2f, %.2f)' % (thresholds[idx], err_rate1[idx]), xy=(thresholds[idx], err_rate1[idx]))\n",
    "plt.legend()\n",
    "plt.title('Error Rate of Threshold Tradeoff')\n",
    "plt.savefig('tradeoff.png')"
   ]
  },
  {
   "cell_type": "code",
   "execution_count": 107,
   "id": "4d3a3c1b-7981-4a7f-bac6-51dde9fecf9d",
   "metadata": {},
   "outputs": [
    {
     "data": {
      "text/plain": [
       "array([0.075])"
      ]
     },
     "execution_count": 107,
     "metadata": {},
     "output_type": "execute_result"
    }
   ],
   "source": [
    " thresholds[idx]"
   ]
  },
  {
   "cell_type": "code",
   "execution_count": 117,
   "id": "862a6999-8a5c-4493-b9da-686bd4ce39a0",
   "metadata": {},
   "outputs": [
    {
     "data": {
      "text/plain": [
       "array([0.27025176])"
      ]
     },
     "execution_count": 117,
     "metadata": {},
     "output_type": "execute_result"
    }
   ],
   "source": [
    "err_rate1[idx]"
   ]
  },
  {
   "cell_type": "code",
   "execution_count": null,
   "id": "cc53c9de-d8a1-4bf2-8cf7-52e49aacb8e2",
   "metadata": {},
   "outputs": [],
   "source": []
  }
 ],
 "metadata": {
  "kernelspec": {
   "display_name": "Python 3",
   "language": "python",
   "name": "python3"
  },
  "language_info": {
   "codemirror_mode": {
    "name": "ipython",
    "version": 3
   },
   "file_extension": ".py",
   "mimetype": "text/x-python",
   "name": "python",
   "nbconvert_exporter": "python",
   "pygments_lexer": "ipython3",
   "version": "3.8.10"
  }
 },
 "nbformat": 4,
 "nbformat_minor": 5
}
